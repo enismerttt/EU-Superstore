{
  "cells": [
    {
      "cell_type": "code",
      "execution_count": 3,
      "metadata": {
        "colab": {
          "base_uri": "https://localhost:8080/"
        },
        "id": "SHRo6AcCs_6o",
        "outputId": "1d2ae4aa-76f4-48b1-e063-85a485f2aff5"
      },
      "outputs": [
        {
          "output_type": "stream",
          "name": "stdout",
          "text": [
            "Looking in indexes: https://pypi.org/simple, https://us-python.pkg.dev/colab-wheels/public/simple/\n",
            "Requirement already satisfied: pyspark in /usr/local/lib/python3.8/dist-packages (3.3.2)\n",
            "Requirement already satisfied: py4j==0.10.9.5 in /usr/local/lib/python3.8/dist-packages (from pyspark) (0.10.9.5)\n"
          ]
        }
      ],
      "source": [
        "!pip install pyspark"
      ],
      "id": "SHRo6AcCs_6o"
    },
    {
      "cell_type": "code",
      "execution_count": 9,
      "metadata": {
        "colab": {
          "base_uri": "https://localhost:8080/"
        },
        "id": "Lkq12srXhHH8",
        "outputId": "83414c26-96e1-4833-cf68-aee589312bb3"
      },
      "outputs": [
        {
          "output_type": "stream",
          "name": "stdout",
          "text": [
            "Mounted at /content/drive\n"
          ]
        }
      ],
      "source": [
        "from google.colab import drive\n",
        "drive.mount('/content/drive')"
      ],
      "id": "Lkq12srXhHH8"
    },
    {
      "cell_type": "code",
      "execution_count": 4,
      "metadata": {
        "id": "9d867484"
      },
      "outputs": [],
      "source": [
        "import pyspark\n",
        "from pyspark.sql import SparkSession"
      ],
      "id": "9d867484"
    },
    {
      "cell_type": "code",
      "execution_count": 5,
      "metadata": {
        "id": "18cf8dbd"
      },
      "outputs": [],
      "source": [
        "spark = SparkSession.builder.master(\"local[*]\").appName(\"Datamanipulation\").getOrCreate()"
      ],
      "id": "18cf8dbd"
    },
    {
      "cell_type": "code",
      "execution_count": 6,
      "metadata": {
        "colab": {
          "base_uri": "https://localhost:8080/",
          "height": 219
        },
        "id": "9e64796c",
        "outputId": "f4a73e95-0dd0-4bfa-c373-f48ba504c044"
      },
      "outputs": [
        {
          "output_type": "execute_result",
          "data": {
            "text/plain": [
              "<pyspark.sql.session.SparkSession at 0x7fb4feb050a0>"
            ],
            "text/html": [
              "\n",
              "            <div>\n",
              "                <p><b>SparkSession - in-memory</b></p>\n",
              "                \n",
              "        <div>\n",
              "            <p><b>SparkContext</b></p>\n",
              "\n",
              "            <p><a href=\"http://8b212a9cccea:4040\">Spark UI</a></p>\n",
              "\n",
              "            <dl>\n",
              "              <dt>Version</dt>\n",
              "                <dd><code>v3.3.2</code></dd>\n",
              "              <dt>Master</dt>\n",
              "                <dd><code>local[*]</code></dd>\n",
              "              <dt>AppName</dt>\n",
              "                <dd><code>Datamanipulation</code></dd>\n",
              "            </dl>\n",
              "        </div>\n",
              "        \n",
              "            </div>\n",
              "        "
            ]
          },
          "metadata": {},
          "execution_count": 6
        }
      ],
      "source": [
        "spark"
      ],
      "id": "9e64796c"
    },
    {
      "cell_type": "markdown",
      "source": [
        "TO ANALYZE DATA, THERE ARE BUNCH OF QUESTIONS, I WILL ANSWER IT BY USING PYSPARK"
      ],
      "metadata": {
        "id": "vzJtOXOIpLnU"
      },
      "id": "vzJtOXOIpLnU"
    },
    {
      "cell_type": "code",
      "execution_count": 33,
      "metadata": {
        "id": "1cb29770"
      },
      "outputs": [],
      "source": [
        "# read our data - lives in a csv file\n",
        "\n",
        "df = spark.read.option(\"header\",\"true\").csv(\"/content/drive/MyDrive/Sample - EU Superstore.csv\")"
      ],
      "id": "1cb29770"
    },
    {
      "cell_type": "code",
      "execution_count": 11,
      "metadata": {
        "id": "6c800030",
        "colab": {
          "base_uri": "https://localhost:8080/"
        },
        "outputId": "468d8e78-035b-4c30-c29e-e0585f10f7be"
      },
      "outputs": [
        {
          "output_type": "execute_result",
          "data": {
            "text/plain": [
              "2827"
            ]
          },
          "metadata": {},
          "execution_count": 11
        }
      ],
      "source": [
        "# how many rows of the EU Superstore dataset have the country being France\n",
        "df.filter(df.Country==\"France\").count()"
      ],
      "id": "6c800030"
    },
    {
      "cell_type": "code",
      "execution_count": 12,
      "metadata": {
        "id": "648e5f8a",
        "colab": {
          "base_uri": "https://localhost:8080/"
        },
        "outputId": "00ed3f39-898e-489f-d48d-1ad42c5ab9fb"
      },
      "outputs": [
        {
          "output_type": "execute_result",
          "data": {
            "text/plain": [
              "2277"
            ]
          },
          "metadata": {},
          "execution_count": 12
        }
      ],
      "source": [
        "# of those, how many are profitable?\n",
        "df.filter((df.Country==\"France\")&(df.Profit>0)).count()\n"
      ],
      "id": "648e5f8a"
    },
    {
      "cell_type": "code",
      "execution_count": 13,
      "metadata": {
        "id": "ca611b93",
        "colab": {
          "base_uri": "https://localhost:8080/"
        },
        "outputId": "f704e129-6294-414e-ce77-526aa1326ca3"
      },
      "outputs": [
        {
          "output_type": "stream",
          "name": "stdout",
          "text": [
            "There are 14 different discount brackets. These are as below:\n",
            "+--------+\n",
            "|discount|\n",
            "+--------+\n",
            "|       0|\n",
            "|     0.1|\n",
            "|    0.15|\n",
            "|     0.2|\n",
            "|     0.3|\n",
            "|    0.35|\n",
            "|     0.4|\n",
            "|    0.45|\n",
            "|     0.5|\n",
            "|     0.6|\n",
            "|    0.65|\n",
            "|     0.7|\n",
            "|     0.8|\n",
            "|    0.85|\n",
            "+--------+\n",
            "\n"
          ]
        }
      ],
      "source": [
        "# how many different discount brackets exist? what are they?\n",
        "discount_brackets= df.select(\"discount\").distinct().orderBy(\"discount\")\n",
        "print(\"There are \" +str(discount_brackets.count()) +  \" different discount brackets. These are as below:\")\n",
        "discount_brackets.show()\n",
        "\n"
      ],
      "id": "ca611b93"
    },
    {
      "cell_type": "code",
      "execution_count": 14,
      "metadata": {
        "colab": {
          "base_uri": "https://localhost:8080/"
        },
        "id": "b2e1f9f0",
        "outputId": "cf308e70-dd6f-48bf-e6f3-404b696178ef"
      },
      "outputs": [
        {
          "output_type": "stream",
          "name": "stdout",
          "text": [
            "Total profit by discount bracket:\n",
            "+--------+--------+\n",
            "|discount|  profit|\n",
            "+--------+--------+\n",
            "|       0|383807.0|\n",
            "|     0.1|126884.0|\n",
            "|    0.15| 24678.0|\n",
            "|     0.2|  2190.0|\n",
            "|     0.3|  -758.0|\n",
            "|    0.35| -9123.0|\n",
            "|     0.4|-21346.0|\n",
            "|    0.45| -1103.0|\n",
            "|     0.5|-96632.0|\n",
            "|     0.6|-20517.0|\n",
            "|    0.65| -6222.0|\n",
            "|     0.7| -5497.0|\n",
            "|     0.8|  -460.0|\n",
            "|    0.85| -3069.0|\n",
            "+--------+--------+\n",
            "\n"
          ]
        }
      ],
      "source": [
        "# let's see the total profit by discount bracket, make sure they are ordered by total profit\n",
        "from pyspark.sql.functions import *\n",
        "\n",
        "profit_by_discount = df.groupBy(\"discount\").agg(round(sum(\"profit\")).alias(\"profit\")).orderBy(\"discount\")\n",
        "print(\"Total profit by discount bracket:\")\n",
        "profit_by_discount.show()"
      ],
      "id": "b2e1f9f0"
    },
    {
      "cell_type": "code",
      "execution_count": 15,
      "metadata": {
        "colab": {
          "base_uri": "https://localhost:8080/"
        },
        "id": "d1d76050",
        "outputId": "49ae5315-7ddc-4fd1-c112-430ecbf5ad27"
      },
      "outputs": [
        {
          "output_type": "stream",
          "name": "stdout",
          "text": [
            "+-------------+\n",
            "|max(discount)|\n",
            "+-------------+\n",
            "|          0.2|\n",
            "+-------------+\n",
            "\n"
          ]
        }
      ],
      "source": [
        "# what is the value after which we should stop offering discount?\n",
        "stop_discount = profit_by_discount.filter(profit_by_discount.profit>0).select(max(\"discount\")).show()\n"
      ],
      "id": "d1d76050"
    },
    {
      "cell_type": "code",
      "execution_count": 29,
      "metadata": {
        "colab": {
          "base_uri": "https://localhost:8080/"
        },
        "id": "aae94ee1",
        "outputId": "4874f6e9-9b92-4c21-9855-4fd7a733760d"
      },
      "outputs": [
        {
          "output_type": "stream",
          "name": "stdout",
          "text": [
            "+-----------------+-----------+------------------+\n",
            "|    Customer Name|Customer ID|       sum(Profit)|\n",
            "+-----------------+-----------+------------------+\n",
            "|     Susan Pistek|   SP-20920| 4974.512999999999|\n",
            "|    Patrick Jones|   PJ-18835|3986.0039999999995|\n",
            "|Patrick O'Donnell|   PO-18865|          3778.197|\n",
            "|    Ellis Ballard|   EB-13840|           3459.66|\n",
            "|  Mike Gockenbach|   MG-18145|3144.4439999999995|\n",
            "+-----------------+-----------+------------------+\n",
            "only showing top 5 rows\n",
            "\n"
          ]
        }
      ],
      "source": [
        "# who are the top 5 most profitable customers\n",
        "df.select(\"Customer Name\",\"Customer ID\",\"Profit\").groupBy(\"Customer Name\",\"Customer ID\").agg({\"Profit\":\"sum\"}).orderBy(\"sum(Profit)\",ascending=False).show(5)"
      ],
      "id": "aae94ee1"
    },
    {
      "cell_type": "code",
      "execution_count": 32,
      "metadata": {
        "id": "277c465a",
        "colab": {
          "base_uri": "https://localhost:8080/"
        },
        "outputId": "aca2fceb-6eec-4929-97a5-f340b801a1c5"
      },
      "outputs": [
        {
          "output_type": "stream",
          "name": "stdout",
          "text": [
            "Number of rows for top customers:  76\n"
          ]
        }
      ],
      "source": [
        "# get all the rows belonging to those 5 customer names: hint, you may need the collect method - how many rows are they?\n",
        "top_customers = [\"Susan Pistek\", \"Patrick Jones\", \"Patrick O'Donnell\", \"Ellis Ballard\", \"Mike Gockenbach\"]\n",
        "top_customers_df = df.filter(df[\"Customer Name\"].isin(top_customers))\n",
        "rows = top_customers_df.collect()\n",
        "print(\"Number of rows for top customers: \", len(rows))\n",
        "\n"
      ],
      "id": "277c465a"
    },
    {
      "cell_type": "code",
      "execution_count": 35,
      "metadata": {
        "id": "8d0fc034",
        "colab": {
          "base_uri": "https://localhost:8080/"
        },
        "outputId": "210a8db3-c1d1-4e25-a661-45f7db3afc7a"
      },
      "outputs": [
        {
          "output_type": "stream",
          "name": "stdout",
          "text": [
            "+------------------+--------+\n",
            "|    Original Sales|   Sales|\n",
            "+------------------+--------+\n",
            "|              79.2|    79.2|\n",
            "|            388.92|  388.92|\n",
            "|             35.19|   35.19|\n",
            "|             50.94|   50.94|\n",
            "|            307.44|  307.44|\n",
            "|             122.4|   122.4|\n",
            "|            413.82|  413.82|\n",
            "|            428.22|  428.22|\n",
            "|           3979.29| 3979.29|\n",
            "|             43.56|   43.56|\n",
            "|             25.26|   25.26|\n",
            "|2715.4500000000003|2443.905|\n",
            "|             12.21|   12.21|\n",
            "|2549.7599999999998|2167.296|\n",
            "|            153.45| 138.105|\n",
            "|142.64999999999998| 128.385|\n",
            "|            690.12|  690.12|\n",
            "|              8.16|    8.16|\n",
            "|            347.88|  347.88|\n",
            "| 639.4499999999999| 575.505|\n",
            "+------------------+--------+\n",
            "only showing top 20 rows\n",
            "\n"
          ]
        }
      ],
      "source": [
        "# create a new column which is the value of the sale were there not discount applied. Hint: orginal = sales/(1-d)\n",
        "df = df.withColumn(\"Original Sales\", col(\"Sales\") / (1 - col(\"Discount\")))\n",
        "df.select(\"Original Sales\",\"Sales\").show()\n"
      ],
      "id": "8d0fc034"
    },
    {
      "cell_type": "code",
      "execution_count": 37,
      "metadata": {
        "id": "ba0f9aa9",
        "colab": {
          "base_uri": "https://localhost:8080/"
        },
        "outputId": "e68ea64c-e97e-4257-9d7f-ebe6070162d6"
      },
      "outputs": [
        {
          "output_type": "stream",
          "name": "stdout",
          "text": [
            "+------------------+--------+-------------------+\n",
            "|    Original Sales|   Sales|Discount Difference|\n",
            "+------------------+--------+-------------------+\n",
            "|              79.2|    79.2|                0.0|\n",
            "|            388.92|  388.92|                0.0|\n",
            "|             35.19|   35.19|                0.0|\n",
            "|             50.94|   50.94|                0.0|\n",
            "|            307.44|  307.44|                0.0|\n",
            "|             122.4|   122.4|                0.0|\n",
            "|            413.82|  413.82|                0.0|\n",
            "|            428.22|  428.22|                0.0|\n",
            "|           3979.29| 3979.29|                0.0|\n",
            "|             43.56|   43.56|                0.0|\n",
            "|             25.26|   25.26|                0.0|\n",
            "|2715.4500000000003|2443.905|  271.5450000000001|\n",
            "|             12.21|   12.21|                0.0|\n",
            "|2549.7599999999998|2167.296| 382.46399999999994|\n",
            "|            153.45| 138.105| 15.344999999999999|\n",
            "|142.64999999999998| 128.385| 14.264999999999986|\n",
            "|            690.12|  690.12|                0.0|\n",
            "|              8.16|    8.16|                0.0|\n",
            "|            347.88|  347.88|                0.0|\n",
            "| 639.4499999999999| 575.505| 63.944999999999936|\n",
            "+------------------+--------+-------------------+\n",
            "only showing top 20 rows\n",
            "\n"
          ]
        }
      ],
      "source": [
        "# calculate the difference between sales and discount value\n",
        "\n",
        "df = df.withColumn(\"Discount Difference\", col(\"Original Sales\") - col(\"Sales\"))\n",
        "\n",
        "df.select(\"Original Sales\",\"Sales\",\"Discount Difference\").show()\n",
        "\n"
      ],
      "id": "ba0f9aa9"
    },
    {
      "cell_type": "code",
      "execution_count": 51,
      "metadata": {
        "id": "8e810f4f",
        "colab": {
          "base_uri": "https://localhost:8080/"
        },
        "outputId": "22487d3f-f32b-486f-bf3f-ee15aef99213"
      },
      "outputs": [
        {
          "output_type": "stream",
          "name": "stdout",
          "text": [
            "+----------------+--------------------+\n",
            "|Discount Bracket|sum(Discount Amount)|\n",
            "+----------------+--------------------+\n",
            "|             0.5|  183734.26500000045|\n",
            "|             0.1|   84712.44899999996|\n",
            "|             0.4|   46724.68800000001|\n",
            "|            0.15|   45233.17650000002|\n",
            "|             0.6|   39644.04599999997|\n",
            "|            0.35|  29163.099000000002|\n",
            "|            0.65|          12219.6555|\n",
            "|             0.2|  10653.119999999999|\n",
            "|             0.7|   8534.084999999997|\n",
            "|            0.85|            4515.438|\n",
            "|             0.3|            2630.241|\n",
            "|            0.45|           2083.4415|\n",
            "|             0.8|   635.6640000000002|\n",
            "|             0.0|                 0.0|\n",
            "+----------------+--------------------+\n",
            "\n"
          ]
        }
      ],
      "source": [
        "# how much money did we not gain due to the discounts - per discount bracket?\n",
        "from pyspark.sql.functions import round\n",
        "\n",
        "discount_loss = df.groupBy(round(\"Discount\", 2).alias(\"Discount Bracket\")).agg({\"Discount Amount\": \"sum\"}).orderBy(sum(\"Discount Amount\"),ascending=False)\n",
        "\n",
        "discount_loss.show()\n"
      ],
      "id": "8e810f4f"
    },
    {
      "cell_type": "code",
      "execution_count": 52,
      "metadata": {
        "id": "76aca9f2",
        "colab": {
          "base_uri": "https://localhost:8080/"
        },
        "outputId": "ea29751c-8ccc-4f22-eb5d-8bd015899590"
      },
      "outputs": [
        {
          "output_type": "stream",
          "name": "stdout",
          "text": [
            "The discount bracket that caused us to lose the most is:  0.5\n"
          ]
        }
      ],
      "source": [
        "# find the discount bracket which made us not gain the most (dynamically)\n",
        "max_discount_loss = discount_loss.first()[\"Discount Bracket\"]\n",
        "\n",
        "print(\"The discount bracket that caused us to lose the most is: \", max_discount_loss)\n",
        "\n"
      ],
      "id": "76aca9f2"
    },
    {
      "cell_type": "code",
      "execution_count": 53,
      "metadata": {
        "id": "0aa9b685",
        "colab": {
          "base_uri": "https://localhost:8080/"
        },
        "outputId": "c9920a3f-db87-4265-b8e1-ec7e0d4b7446"
      },
      "outputs": [
        {
          "output_type": "stream",
          "name": "stdout",
          "text": [
            "The total profit without the discount bracket that caused us to lose the most is:  469461.8565000003\n"
          ]
        }
      ],
      "source": [
        "# what would have been the total profit if we removed all orders from that discount group? \n",
        "\n",
        "df_no_max_loss = df.filter(df.Discount != max_discount_loss)\n",
        "\n",
        "total_profit = df_no_max_loss.agg(sum(\"Profit\")).collect()[0][0]\n",
        "\n",
        "print(\"The total profit without the discount bracket that caused us to lose the most is: \", total_profit)\n"
      ],
      "id": "0aa9b685"
    },
    {
      "cell_type": "code",
      "execution_count": 56,
      "metadata": {
        "id": "fca95e60",
        "colab": {
          "base_uri": "https://localhost:8080/"
        },
        "outputId": "398b9b12-4706-4f92-9bd8-0dd14143b855"
      },
      "outputs": [
        {
          "output_type": "stream",
          "name": "stdout",
          "text": [
            "The difference in profit is:  -96632.11499999976 So it is less profit with this discount bracket\n"
          ]
        }
      ],
      "source": [
        "#how much more (or less) profit is that?\n",
        "total_profit_all = df.agg(sum(\"Profit\")).collect()[0][0]\n",
        "profit_difference = total_profit_all - total_profit\n",
        "print(\"The difference in profit is: \", profit_difference, \"So it is less profit with this discount bracket\"if profit_difference<0 else \"So it is more profit with this discount bracket\")\n",
        "\n",
        "\n",
        "\n"
      ],
      "id": "fca95e60"
    },
    {
      "cell_type": "code",
      "execution_count": 59,
      "metadata": {
        "id": "0fb49200"
      },
      "outputs": [],
      "source": [
        "# create a temporary table for our superstore table in sql\n",
        "df.createOrReplaceTempView(\"superstore_table\")\n"
      ],
      "id": "0fb49200"
    },
    {
      "cell_type": "code",
      "execution_count": 60,
      "metadata": {
        "id": "a23e0bca",
        "colab": {
          "base_uri": "https://localhost:8080/"
        },
        "outputId": "cd679b59-9e9c-4085-fbcc-8faa43bf07a6"
      },
      "outputs": [
        {
          "output_type": "stream",
          "name": "stdout",
          "text": [
            "The number of rows in the superstore table is: 10000\n"
          ]
        }
      ],
      "source": [
        "# use an SQL query to count the number of rows\n",
        "count = spark.sql(\"SELECT COUNT(*) FROM superstore_table\").collect()[0][0]\n",
        "print(\"The number of rows in the superstore table is:\", count)\n"
      ],
      "id": "a23e0bca"
    },
    {
      "cell_type": "code",
      "execution_count": 63,
      "metadata": {
        "id": "8e2cf9f2",
        "colab": {
          "base_uri": "https://localhost:8080/"
        },
        "outputId": "56e3eb1a-62ed-4774-f782-a3c75c3411bb"
      },
      "outputs": [
        {
          "output_type": "stream",
          "name": "stdout",
          "text": [
            "+--------------+------------+\n",
            "|       Country|profit_ratio|\n",
            "+--------------+------------+\n",
            "|   Switzerland|        0.29|\n",
            "|       Austria|        0.26|\n",
            "|        Norway|        0.25|\n",
            "|       Belgium|        0.24|\n",
            "|United Kingdom|        0.21|\n",
            "|       Finland|        0.19|\n",
            "|         Spain|        0.19|\n",
            "|       Germany|        0.17|\n",
            "|        France|        0.13|\n",
            "|         Italy|        0.07|\n",
            "|       Ireland|       -0.44|\n",
            "|       Denmark|        -0.5|\n",
            "|   Netherlands|       -0.53|\n",
            "|        Sweden|       -0.57|\n",
            "|      Portugal|       -0.58|\n",
            "+--------------+------------+\n",
            "\n"
          ]
        }
      ],
      "source": [
        "# Use an SQL query to calculate the profit ratio for each country: hint, ratio is sum(profit)/sum(sales)\n",
        "\n",
        "query = \"\"\"\n",
        "    SELECT Country, ROUND(SUM(Profit)/SUM(Sales), 2) AS profit_ratio\n",
        "    FROM superstore_table\n",
        "    GROUP BY Country\n",
        "    ORDER BY profit_ratio DESC\n",
        "\"\"\"\n",
        "\n",
        "result = spark.sql(query)\n",
        "\n",
        "result.show()\n"
      ],
      "id": "8e2cf9f2"
    },
    {
      "cell_type": "code",
      "execution_count": 65,
      "metadata": {
        "id": "f8cdd772",
        "colab": {
          "base_uri": "https://localhost:8080/"
        },
        "outputId": "87804c47-0b76-47d0-8aee-2a6751ae130a"
      },
      "outputs": [
        {
          "output_type": "stream",
          "name": "stdout",
          "text": [
            "Country with the largest profit ratio:\n",
            "+-----------+------------+\n",
            "|    Country|profit_ratio|\n",
            "+-----------+------------+\n",
            "|Switzerland|        0.29|\n",
            "+-----------+------------+\n",
            "only showing top 1 row\n",
            "\n",
            "Country with the largest profit:\n",
            "+--------------+------------------+\n",
            "|       Country|      total_profit|\n",
            "+--------------+------------------+\n",
            "|United Kingdom|111900.15000000001|\n",
            "+--------------+------------------+\n",
            "only showing top 1 row\n",
            "\n",
            "So the country with the largest profit ratio  is not necessarily the country with the largest profit.\n"
          ]
        }
      ],
      "source": [
        "# is the country with the largest profit ratio, the country with the largest profit?\n",
        "\n",
        "query_profit = \"\"\"\n",
        "    SELECT Country, SUM(Profit) AS total_profit\n",
        "    FROM superstore_table\n",
        "    GROUP BY Country\n",
        "    ORDER BY total_profit DESC\n",
        "\"\"\"\n",
        "\n",
        "result_profit = spark.sql(query_profit)\n",
        "\n",
        "print(\"Country with the largest profit ratio:\")\n",
        "result.show(1)\n",
        "print(\"Country with the largest profit:\")\n",
        "result_profit.show(1)\n",
        "print(\"So the country with the largest profit ratio  is not necessarily the country with the largest profit.\")\n",
        "\n"
      ],
      "id": "f8cdd772"
    }
  ],
  "metadata": {
    "colab": {
      "provenance": []
    },
    "kernelspec": {
      "display_name": "Python 3 (ipykernel)",
      "language": "python",
      "name": "python3"
    },
    "language_info": {
      "codemirror_mode": {
        "name": "ipython",
        "version": 3
      },
      "file_extension": ".py",
      "mimetype": "text/x-python",
      "name": "python",
      "nbconvert_exporter": "python",
      "pygments_lexer": "ipython3",
      "version": "3.9.7"
    }
  },
  "nbformat": 4,
  "nbformat_minor": 5
}